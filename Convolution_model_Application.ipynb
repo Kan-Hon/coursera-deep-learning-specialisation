{
 "cells": [
  {
   "cell_type": "markdown",
   "metadata": {},
   "source": [
    "# Convolutional Neural Networks: Application\n",
    "\n",
    "Welcome to Course 4's second assignment! In this notebook, you will:\n",
    "\n",
    "- Create a mood classifer using the TF Keras Sequential API\n",
    "- Build a ConvNet to identify sign language digits using the TF Keras Functional API\n",
    "\n",
    "**After this assignment you will be able to:**\n",
    "\n",
    "- Build and train a ConvNet in TensorFlow for a __binary__ classification problem\n",
    "- Build and train a ConvNet in TensorFlow for a __multiclass__ classification problem\n",
    "- Explain different use cases for the Sequential and Functional APIs\n",
    "\n",
    "To complete this assignment, you should already be familiar with TensorFlow. If you are not, please refer back to the **TensorFlow Tutorial** of the third week of Course 2 (\"**Improving deep neural networks**\")."
   ]
  },
  {
   "cell_type": "markdown",
   "metadata": {},
   "source": [
    "## Table of Contents\n",
    "\n",
    "- [1 - Packages](#1)\n",
    "    - [1.1 - Load the Data and Split the Data into Train/Test Sets](#1-1)\n",
    "- [2 - Layers in TF Keras](#2)\n",
    "- [3 - The Sequential API](#3)\n",
    "    - [3.1 - Create the Sequential Model](#3-1)\n",
    "        - [Exercise 1 - happyModel](#ex-1)\n",
    "    - [3.2 - Train and Evaluate the Model](#3-2)\n",
    "- [4 - The Functional API](#4)\n",
    "    - [4.1 - Load the SIGNS Dataset](#4-1)\n",
    "    - [4.2 - Split the Data into Train/Test Sets](#4-2)\n",
    "    - [4.3 - Forward Propagation](#4-3)\n",
    "        - [Exercise 2 - convolutional_model](#ex-2)\n",
    "    - [4.4 - Train the Model](#4-4)\n",
    "- [5 - History Object](#5)\n",
    "- [6 - Bibliography](#6)"
   ]
  },
  {
   "cell_type": "markdown",
   "metadata": {},
   "source": [
    "<a name='1'></a>\n",
    "## 1 - Packages\n",
    "\n",
    "As usual, begin by loading in the packages."
   ]
  },
  {
   "cell_type": "code",
   "execution_count": 1,
   "metadata": {},
   "outputs": [],
   "source": [
    "import math\n",
    "import numpy as np\n",
    "import h5py\n",
    "import matplotlib.pyplot as plt\n",
    "from matplotlib.pyplot import imread\n",
    "import scipy\n",
    "from PIL import Image\n",
    "import pandas as pd\n",
    "import tensorflow as tf\n",
    "import tensorflow.keras.layers as tfl\n",
    "from tensorflow.python.framework import ops\n",
    "from cnn_utils import *\n",
    "from test_utils import summary, comparator\n",
    "\n",
    "%matplotlib inline\n",
    "np.random.seed(1)"
   ]
  },
  {
   "cell_type": "markdown",
   "metadata": {},
   "source": [
    "<a name='1-1'></a>\n",
    "### 1.1 - Load the Data and Split the Data into Train/Test Sets\n",
    "\n",
    "You'll be using the Happy House dataset for this part of the assignment, which contains images of peoples' faces. Your task will be to build a ConvNet that determines whether the people in the images are smiling or not -- because they only get to enter the house if they're smiling!  "
   ]
  },
  {
   "cell_type": "code",
   "execution_count": 2,
   "metadata": {},
   "outputs": [
    {
     "name": "stdout",
     "output_type": "stream",
     "text": [
      "number of training examples = 600\n",
      "number of test examples = 150\n",
      "X_train shape: (600, 64, 64, 3)\n",
      "Y_train shape: (600, 1)\n",
      "X_test shape: (150, 64, 64, 3)\n",
      "Y_test shape: (150, 1)\n"
     ]
    }
   ],
   "source": [
    "X_train_orig, Y_train_orig, X_test_orig, Y_test_orig, classes = load_happy_dataset()\n",
    "\n",
    "# Normalize image vectors\n",
    "X_train = X_train_orig/255.\n",
    "X_test = X_test_orig/255.\n",
    "\n",
    "# Reshape\n",
    "Y_train = Y_train_orig.T\n",
    "Y_test = Y_test_orig.T\n",
    "\n",
    "print (\"number of training examples = \" + str(X_train.shape[0]))\n",
    "print (\"number of test examples = \" + str(X_test.shape[0]))\n",
    "print (\"X_train shape: \" + str(X_train.shape))\n",
    "print (\"Y_train shape: \" + str(Y_train.shape))\n",
    "print (\"X_test shape: \" + str(X_test.shape))\n",
    "print (\"Y_test shape: \" + str(Y_test.shape))"
   ]
  },
  {
   "cell_type": "markdown",
   "metadata": {},
   "source": [
    "You can display the images contained in the dataset. Images are **64x64** pixels in RGB format (3 channels)."
   ]
  },
  {
   "cell_type": "code",
   "execution_count": 3,
   "metadata": {},
   "outputs": [
    {
     "data": {
      "image/png": "[encoded data removed]",
      "text/plain": [
       "<Figure size 432x288 with 1 Axes>"
      ]
     },
     "metadata": {
      "needs_background": "light"
     },
     "output_type": "display_data"
    }
   ],
   "source": [
    "index = 124\n",
    "plt.imshow(X_train_orig[index]) #display sample training image\n",
    "plt.show()"
   ]
  },
  {
   "cell_type": "markdown",
   "metadata": {},
   "source": [
    "<a name='2'></a>\n",
    "## 2 - Layers in TF Keras \n",
    "\n",
    "In the previous assignment, you created layers manually in numpy. In TF Keras, you don't have to write code directly to create layers. Rather, TF Keras has pre-defined layers you can use. \n",
    "\n",
    "When you create a layer in TF Keras, you are creating a function that takes some input and transforms it into an output you can reuse later. Nice and easy! "
   ]
  },
  {
   "cell_type": "markdown",
   "metadata": {},
   "source": [
    "<a name='3'></a>\n",
    "## 3 - The Sequential API\n",
    "\n",
    "In the previous assignment, you built helper functions using `numpy` to understand the mechanics behind convolutional neural networks. Most practical applications of deep learning today are built using programming frameworks, which have many built-in functions you can simply call. Keras is a high-level abstraction built on top of TensorFlow, which allows for even more simplified and optimized model creation and training. \n",
    "\n",
    "For the first part of this assignment, you'll create a model using TF Keras' Sequential API, which allows you to build layer by layer, and is ideal for building models where each layer has **exactly one** input tensor and **one** output tensor. \n",
    "\n",
    "As you'll see, using the Sequential API is simple and straightforward, but is only appropriate for simpler, more straightforward tasks. Later in this notebook you'll spend some time building with a more flexible, powerful alternative: the Functional API. \n",
    " "
   ]
  },
  {
   "cell_type": "markdown",
   "metadata": {},
   "source": [
    "<a name='3-1'></a>\n",
    "### 3.1 - Create the Sequential Model\n",
    "\n",
    "As mentioned earlier, the TensorFlow Keras Sequential API can be used to build simple models with layer operations that proceed in a sequential order. \n",
    "\n",
    "You can also add layers incrementally to a Sequential model with the `.add()` method, or remove them using the `.pop()` method, much like you would in a regular Python list.\n",
    "\n",
    "Actually, you can think of a Sequential model as behaving like a list of layers. Like Python lists, Sequential layers are ordered, and the order in which they are specified matters.  If your model is non-linear or contains layers with multiple inputs or outputs, a Sequential model wouldn't be the right choice!\n",
    "\n",
    "For any layer construction in Keras, you'll need to specify the input shape in advance. This is because in Keras, the shape of the weights is based on the shape of the inputs. The weights are only created when the model first sees some input data. Sequential models can be created by passing a list of layers to the Sequential constructor, like you will do in the next assignment.\n",
    "\n",
    "<a name='ex-1'></a>\n",
    "### Exercise 1 - happyModel\n",
    "\n",
    "Implement the `happyModel` function below to build the following model: `ZEROPAD2D -> CONV2D -> BATCHNORM -> RELU -> MAXPOOL -> FLATTEN -> DENSE`. Take help from [tf.keras.layers](https://www.tensorflow.org/api_docs/python/tf/keras/layers) \n",
    "\n",
    "Also, plug in the following parameters for all the steps:\n",
    "\n",
    " - [ZeroPadding2D](https://www.tensorflow.org/api_docs/python/tf/keras/layers/ZeroPadding2D): padding 3, input shape 64 x 64 x 3\n",
    " - [Conv2D](https://www.tensorflow.org/api_docs/python/tf/keras/layers/Conv2D): Use 32 7x7 filters, stride 1\n",
    " - [BatchNormalization](https://www.tensorflow.org/api_docs/python/tf/keras/layers/BatchNormalization): for axis 3\n",
    " - [ReLU](https://www.tensorflow.org/api_docs/python/tf/keras/layers/ReLU)\n",
    " - [MaxPool2D](https://www.tensorflow.org/api_docs/python/tf/keras/layers/MaxPool2D): Using default parameters\n",
    " - [Flatten](https://www.tensorflow.org/api_docs/python/tf/keras/layers/Flatten) the previous output.\n",
    " - Fully-connected ([Dense](https://www.tensorflow.org/api_docs/python/tf/keras/layers/Dense)) layer: Apply a fully connected layer with 1 neuron and a sigmoid activation. \n",
    " \n",
    " \n",
    " **Hint:**\n",
    " \n",
    " Use **tfl** as shorthand for **tensorflow.keras.layers**"
   ]
  },
  {
   "cell_type": "code",
   "execution_count": 28,
   "metadata": {
    "deletable": false,
    "nbgrader": {
     "cell_type": "code",
     "checksum": "95d28b191f257bdd5b70c7b8952559d5",
     "grade": false,
     "grade_id": "cell-0e56d3fc28b69aec",
     "locked": false,
     "schema_version": 3,
     "solution": true,
     "task": false
    }
   },
   "outputs": [],
   "source": [
    "# GRADED FUNCTION: happyModel\n",
    "\n",
    "def happyModel():\n",
    "    \"\"\"\n",
    "    Implements the forward propagation for the binary classification model:\n",
    "    ZEROPAD2D -> CONV2D -> BATCHNORM -> RELU -> MAXPOOL -> FLATTEN -> DENSE\n",
    "    \n",
    "    Note that for simplicity and grading purposes, you'll hard-code all the values\n",
    "    such as the stride and kernel (filter) sizes. \n",
    "    Normally, functions should take these values as function parameters.\n",
    "    \n",
    "    Arguments:\n",
    "    None\n",
    "\n",
    "    Returns:\n",
    "    model -- TF Keras model (object containing the information for the entire training process) \n",
    "    \"\"\"\n",
    "    model = tf.keras.Sequential([\n",
    "            ## ZeroPadding2D with padding 3, input shape of 64 x 64 x 3\n",
    "            tfl.ZeroPadding2D(padding = 3,input_shape=(64, 64, 3)),\n",
    "            ## Conv2D with 32 7x7 filters and stride of 1\n",
    "            tfl.Conv2D(32, 7, strides = 1),\n",
    "            ## BatchNormalization for axis 3\n",
    "            tfl.BatchNormalization(axis = 3),\n",
    "            ## ReLU\n",
    "            tfl.ReLU(),\n",
    "            ## Max Pooling 2D with default parameters\n",
    "            tfl.MaxPool2D(pool_size=(2, 2), strides=None, padding='valid', data_format=None),\n",
    "            ## Flatten layer\n",
    "            tfl.Flatten(),\n",
    "            ## Dense layer with 1 unit for output & 'sigmoid' activation\n",
    "            tfl.Dense(1, activation = 'sigmoid')\n",
    "            # YOUR CODE STARTS HERE\n",
    "            \n",
    "            \n",
    "            # YOUR CODE ENDS HERE\n",
    "        ])\n",
    "    \n",
    "    return model"
   ]
  },
  {
   "cell_type": "code",
   "execution_count": 29,
   "metadata": {
    "deletable": false,
    "editable": false,
    "nbgrader": {
     "cell_type": "code",
     "checksum": "8d3575c950e2e78149be2d05d671c80d",
     "grade": true,
     "grade_id": "cell-e3e1046e5c33d775",
     "locked": true,
     "points": 10,
     "schema_version": 3,
     "solution": false,
     "task": false
    }
   },
   "outputs": [
    {
     "name": "stdout",
     "output_type": "stream",
     "text": [
      "['ZeroPadding2D', (None, 70, 70, 3), 0, ((3, 3), (3, 3))]\n",
      "['Conv2D', (None, 64, 64, 32), 4736, 'valid', 'linear', 'GlorotUniform']\n",
      "['BatchNormalization', (None, 64, 64, 32), 128]\n",
      "['ReLU', (None, 64, 64, 32), 0]\n",
      "['MaxPooling2D', (None, 32, 32, 32), 0, (2, 2), (2, 2), 'valid']\n",
      "['Flatten', (None, 32768), 0]\n",
      "['Dense', (None, 1), 32769, 'sigmoid']\n",
      "\u001b[32mAll tests passed!\u001b[0m\n"
     ]
    }
   ],
   "source": [
    "happy_model = happyModel()\n",
    "# Print a summary for each layer\n",
    "for layer in summary(happy_model):\n",
    "    print(layer)\n",
    "    \n",
    "output = [['ZeroPadding2D', (None, 70, 70, 3), 0, ((3, 3), (3, 3))],\n",
    "            ['Conv2D', (None, 64, 64, 32), 4736, 'valid', 'linear', 'GlorotUniform'],\n",
    "            ['BatchNormalization', (None, 64, 64, 32), 128],\n",
    "            ['ReLU', (None, 64, 64, 32), 0],\n",
    "            ['MaxPooling2D', (None, 32, 32, 32), 0, (2, 2), (2, 2), 'valid'],\n",
    "            ['Flatten', (None, 32768), 0],\n",
    "            ['Dense', (None, 1), 32769, 'sigmoid']]\n",
    "    \n",
    "comparator(summary(happy_model), output)"
   ]
  },
  {
   "cell_type": "markdown",
   "metadata": {},
   "source": [
    "Now that your model is created, you can compile it for training with an optimizer and loss of your choice. When the string `accuracy` is specified as a metric, the type of accuracy used will be automatically converted based on the loss function used. This is one of the many optimizations built into TensorFlow that make your life easier! If you'd like to read more on how the compiler operates, check the docs [here](https://www.tensorflow.org/api_docs/python/tf/keras/Model#compile)."
   ]
  },
  {
   "cell_type": "code",
   "execution_count": 30,
   "metadata": {},
   "outputs": [],
   "source": [
    "happy_model.compile(optimizer='adam',\n",
    "                   loss='binary_crossentropy',\n",
    "                   metrics=['accuracy'])"
   ]
  },
  {
   "cell_type": "markdown",
   "metadata": {},
   "source": [
    "It's time to check your model's parameters with the `.summary()` method. This will display the types of layers you have, the shape of the outputs, and how many parameters are in each layer. "
   ]
  },
  {
   "cell_type": "code",
   "execution_count": 31,
   "metadata": {},
   "outputs": [
    {
     "name": "stdout",
     "output_type": "stream",
     "text": [
      "Model: \"sequential_7\"\n",
      "_________________________________________________________________\n",
      "Layer (type)                 Output Shape              Param #   \n",
      "=================================================================\n",
      "zero_padding2d_12 (ZeroPaddi (None, 70, 70, 3)         0         \n",
      "_________________________________________________________________\n",
      "conv2d_7 (Conv2D)            (None, 64, 64, 32)        4736      \n",
      "_________________________________________________________________\n",
      "batch_normalization_7 (Batch (None, 64, 64, 32)        128       \n",
      "_________________________________________________________________\n",
      "re_lu_6 (ReLU)               (None, 64, 64, 32)        0         \n",
      "_________________________________________________________________\n",
      "max_pooling2d_6 (MaxPooling2 (None, 32, 32, 32)        0         \n",
      "_________________________________________________________________\n",
      "flatten_6 (Flatten)          (None, 32768)             0         \n",
      "_________________________________________________________________\n",
      "dense_6 (Dense)              (None, 1)                 32769     \n",
      "=================================================================\n",
      "Total params: 37,633\n",
      "Trainable params: 37,569\n",
      "Non-trainable params: 64\n",
      "_________________________________________________________________\n"
     ]
    }
   ],
   "source": [
    "happy_model.summary()"
   ]
  },
  {
   "cell_type": "markdown",
   "metadata": {},
   "source": [
    "<a name='3-2'></a>\n",
    "### 3.2 - Train and Evaluate the Model\n",
    "\n",
    "After creating the model, compiling it with your choice of optimizer and loss function, and doing a sanity check on its contents, you are now ready to build! \n",
    "\n",
    "Simply call `.fit()` to train. That's it! No need for mini-batching, saving, or complex backpropagation computations. That's all been done for you, as you're using a TensorFlow dataset with the batches specified already. You do have the option to specify epoch number or minibatch size if you like (for example, in the case of an un-batched dataset)."
   ]
  },
  {
   "cell_type": "code",
   "execution_count": 32,
   "metadata": {},
   "outputs": [
    {
     "name": "stdout",
     "output_type": "stream",
     "text": [
      "Epoch 1/10\n",
      "38/38 [==============================] - 4s 95ms/step - loss: 1.2298 - accuracy: 0.6950\n",
      "Epoch 2/10\n",
      "38/38 [==============================] - 3s 87ms/step - loss: 0.2441 - accuracy: 0.9000\n",
      "Epoch 3/10\n",
      "38/38 [==============================] - 3s 90ms/step - loss: 0.1431 - accuracy: 0.9483\n",
      "Epoch 4/10\n",
      "38/38 [==============================] - 3s 87ms/step - loss: 0.1474 - accuracy: 0.9483\n",
      "Epoch 5/10\n",
      "38/38 [==============================] - 3s 87ms/step - loss: 0.1092 - accuracy: 0.9650\n",
      "Epoch 6/10\n",
      "38/38 [==============================] - 3s 87ms/step - loss: 0.0878 - accuracy: 0.9733\n",
      "Epoch 7/10\n",
      "38/38 [==============================] - 3s 89ms/step - loss: 0.0860 - accuracy: 0.9667\n",
      "Epoch 8/10\n",
      "38/38 [==============================] - 3s 87ms/step - loss: 0.0696 - accuracy: 0.9717\n",
      "Epoch 9/10\n",
      "38/38 [==============================] - 3s 90ms/step - loss: 0.0597 - accuracy: 0.9817\n",
      "Epoch 10/10\n",
      "38/38 [==============================] - 3s 89ms/step - loss: 0.1490 - accuracy: 0.9483\n"
     ]
    },
    {
     "data": {
      "text/plain": [
       "<tensorflow.python.keras.callbacks.History at 0x7fa5db0ab650>"
      ]
     },
     "execution_count": 32,
     "metadata": {},
     "output_type": "execute_result"
    }
   ],
   "source": [
    "happy_model.fit(X_train, Y_train, epochs=10, batch_size=16)"
   ]
  },
  {
   "cell_type": "markdown",
   "metadata": {},
   "source": [
    "After that completes, just use `.evaluate()` to evaluate against your test set. This function will print the value of the loss function and the performance metrics specified during the compilation of the model. In this case, the `binary_crossentropy` and the `accuracy` respectively."
   ]
  },
  {
   "cell_type": "code",
   "execution_count": 33,
   "metadata": {},
   "outputs": [
    {
     "name": "stdout",
     "output_type": "stream",
     "text": [
      "5/5 [==============================] - 0s 29ms/step - loss: 0.2283 - accuracy: 0.9133\n"
     ]
    },
    {
     "data": {
      "text/plain": [
       "[0.22833997011184692, 0.9133333563804626]"
      ]
     },
     "execution_count": 33,
     "metadata": {},
     "output_type": "execute_result"
    }
   ],
   "source": [
    "happy_model.evaluate(X_test, Y_test)"
   ]
  },
  {
   "cell_type": "markdown",
   "metadata": {},
   "source": [
    "Easy, right? But what if you need to build a model with shared layers, branches, or multiple inputs and outputs? This is where Sequential, with its beautifully simple yet limited functionality, won't be able to help you. \n",
    "\n",
    "Next up: Enter the Functional API, your slightly more complex, highly flexible friend.  "
   ]
  },
  {
   "cell_type": "markdown",
   "metadata": {},
   "source": [
    "<a name='4'></a>\n",
    "## 4 - The Functional API"
   ]
  },
  {
   "cell_type": "markdown",
   "metadata": {},
   "source": [
    "Welcome to the second half of the assignment, where you'll use Keras' flexible [Functional API](https://www.tensorflow.org/guide/keras/functional) to build a ConvNet that can differentiate between 6 sign language digits. \n",
    "\n",
    "The Functional API can handle models with non-linear topology, shared layers, as well as layers with multiple inputs or outputs. Imagine that, where the Sequential API requires the model to move in a linear fashion through its layers, the Functional API allows much more flexibility. Where Sequential is a straight line, a Functional model is a graph, where the nodes of the layers can connect in many more ways than one. \n",
    "\n",
    "In the visual example below, the one possible direction of the movement Sequential model is shown in contrast to a skip connection, which is just one of the many ways a Functional model can be constructed. A skip connection, as you might have guessed, skips some layer in the network and feeds the output to a later layer in the network. Don't worry, you'll be spending more time with skip connections very soon! "
   ]
  },
  {
   "cell_type": "markdown",
   "metadata": {},
   "source": [
    "<img src=\"images/seq_vs_func.png\" style=\"width:350px;height:200px;\">"
   ]
  },
  {
   "cell_type": "markdown",
   "metadata": {},
   "source": [
    "<a name='4-1'></a>\n",
    "### 4.1 - Load the SIGNS Dataset\n",
    "\n",
    "As a reminder, the SIGNS dataset is a collection of 6 signs representing numbers from 0 to 5."
   ]
  },
  {
   "cell_type": "code",
   "execution_count": 34,
   "metadata": {},
   "outputs": [],
   "source": [
    "# Loading the data (signs)\n",
    "X_train_orig, Y_train_orig, X_test_orig, Y_test_orig, classes = load_signs_dataset()"
   ]
  },
  {
   "cell_type": "markdown",
   "metadata": {},
   "source": [
    "<img src=\"images/SIGNS.png\" style=\"width:800px;height:300px;\">\n",
    "\n",
    "The next cell will show you an example of a labelled image in the dataset. Feel free to change the value of `index` below and re-run to see different examples. "
   ]
  },
  {
   "cell_type": "code",
   "execution_count": 35,
   "metadata": {},
   "outputs": [
    {
     "name": "stdout",
     "output_type": "stream",
     "text": [
      "y = 4\n"
     ]
    },
    {
     "data": {
      "image/png": "[encoded data removed]",
      "text/plain": [
       "<Figure size 432x288 with 1 Axes>"
      ]
     },
     "metadata": {
      "needs_background": "light"
     },
     "output_type": "display_data"
    }
   ],
   "source": [
    "# Example of an image from the dataset\n",
    "index = 9\n",
    "plt.imshow(X_train_orig[index])\n",
    "print (\"y = \" + str(np.squeeze(Y_train_orig[:, index])))"
   ]
  },
  {
   "cell_type": "markdown",
   "metadata": {},
   "source": [
    "<a name='4-2'></a>\n",
    "### 4.2 - Split the Data into Train/Test Sets\n",
    "\n",
    "In Course 2, you built a fully-connected network for this dataset. But since this is an image dataset, it is more natural to apply a ConvNet to it.\n",
    "\n",
    "To get started, let's examine the shapes of your data. "
   ]
  },
  {
   "cell_type": "code",
   "execution_count": 36,
   "metadata": {},
   "outputs": [
    {
     "name": "stdout",
     "output_type": "stream",
     "text": [
      "number of training examples = 1080\n",
      "number of test examples = 120\n",
      "X_train shape: (1080, 64, 64, 3)\n",
      "Y_train shape: (1080, 6)\n",
      "X_test shape: (120, 64, 64, 3)\n",
      "Y_test shape: (120, 6)\n"
     ]
    }
   ],
   "source": [
    "X_train = X_train_orig/255.\n",
    "X_test = X_test_orig/255.\n",
    "Y_train = convert_to_one_hot(Y_train_orig, 6).T\n",
    "Y_test = convert_to_one_hot(Y_test_orig, 6).T\n",
    "print (\"number of training examples = \" + str(X_train.shape[0]))\n",
    "print (\"number of test examples = \" + str(X_test.shape[0]))\n",
    "print (\"X_train shape: \" + str(X_train.shape))\n",
    "print (\"Y_train shape: \" + str(Y_train.shape))\n",
    "print (\"X_test shape: \" + str(X_test.shape))\n",
    "print (\"Y_test shape: \" + str(Y_test.shape))"
   ]
  },
  {
   "cell_type": "markdown",
   "metadata": {},
   "source": [
    "<a name='4-3'></a>\n",
    "### 4.3 - Forward Propagation\n",
    "\n",
    "In TensorFlow, there are built-in functions that implement the convolution steps for you. By now, you should be familiar with how TensorFlow builds computational graphs. In the [Functional API](https://www.tensorflow.org/guide/keras/functional), you create a graph of layers. This is what allows such great flexibility.\n",
    "\n",
    "However, the following model could also be defined using the Sequential API since the information flow is on a single line. But don't deviate. What we want you to learn is to use the functional API.\n",
    "\n",
    "Begin building your graph of layers by creating an input node that functions as a callable object:\n",
    "\n",
    "- **input_img = tf.keras.Input(shape=input_shape):** \n",
    "\n",
    "Then, create a new node in the graph of layers by calling a layer on the `input_img` object: \n",
    "\n",
    "- **tf.keras.layers.Conv2D(filters= ... , kernel_size= ... , padding='same')(input_img):** Read the full documentation on [Conv2D](https://www.tensorflow.org/api_docs/python/tf/keras/layers/Conv2D).\n",
    "\n",
    "- **tf.keras.layers.MaxPool2D(pool_size=(f, f), strides=(s, s), padding='same'):** `MaxPool2D()` downsamples your input using a window of size (f, f) and strides of size (s, s) to carry out max pooling over each window.  For max pooling, you usually operate on a single example at a time and a single channel at a time. Read the full documentation on [MaxPool2D](https://www.tensorflow.org/api_docs/python/tf/keras/layers/MaxPool2D).\n",
    "\n",
    "- **tf.keras.layers.ReLU():** computes the elementwise ReLU of Z (which can be any shape). You can read the full documentation on [ReLU](https://www.tensorflow.org/api_docs/python/tf/keras/layers/ReLU).\n",
    "\n",
    "- **tf.keras.layers.Flatten()**: given a tensor \"P\", this function takes each training (or test) example in the batch and flattens it into a 1D vector.  \n",
    "\n",
    "    * If a tensor P has the shape (batch_size,h,w,c), it returns a flattened tensor with shape (batch_size, k), where $k=h \\times w \\times c$.  \"k\" equals the product of all the dimension sizes other than the first dimension.\n",
    "    \n",
    "    * For example, given a tensor with dimensions [100, 2, 3, 4], it flattens the tensor to be of shape [100, 24], where 24 = 2 * 3 * 4.  You can read the full documentation on [Flatten](https://www.tensorflow.org/api_docs/python/tf/keras/layers/Flatten).\n",
    "\n",
    "- **tf.keras.layers.Dense(units= ... , activation='softmax')(F):** given the flattened input F, it returns the output computed using a fully connected layer. You can read the full documentation on [Dense](https://www.tensorflow.org/api_docs/python/tf/keras/layers/Dense).\n",
    "\n",
    "In the last function above (`tf.keras.layers.Dense()`), the fully connected layer automatically initializes weights in the graph and keeps on training them as you train the model. Hence, you did not need to initialize those weights when initializing the parameters.\n",
    "\n",
    "Lastly, before creating the model, you'll need to define the output using the last of the function's compositions (in this example, a Dense layer): \n",
    "\n",
    "- **outputs = tf.keras.layers.Dense(units=6, activation='softmax')(F)**\n",
    "\n",
    "\n",
    "#### Window, kernel, filter, pool\n",
    "\n",
    "The words \"kernel\" and \"filter\" are used to refer to the same thing. The word \"filter\" accounts for the amount of \"kernels\" that will be used in a single convolution layer. \"Pool\" is the name of the operation that takes the max or average value of the kernels. \n",
    "\n",
    "This is why the parameter `pool_size` refers to `kernel_size`, and you use `(f,f)` to refer to the filter size. \n",
    "\n",
    "Pool size and kernel size refer to the same thing in different objects - They refer to the shape of the window where the operation takes place. "
   ]
  },
  {
   "cell_type": "markdown",
   "metadata": {},
   "source": [
    "<a name='ex-2'></a>\n",
    "### Exercise 2 - convolutional_model\n",
    "\n",
    "Implement the `convolutional_model` function below to build the following model: `CONV2D -> RELU -> MAXPOOL -> CONV2D -> RELU -> MAXPOOL -> FLATTEN -> DENSE`. Use the functions above! \n",
    "\n",
    "Also, plug in the following parameters for all the steps:\n",
    "\n",
    " - [Conv2D](https://www.tensorflow.org/api_docs/python/tf/keras/layers/Conv2D): Use 8 4 by 4 filters, stride 1, padding is \"SAME\"\n",
    " - [ReLU](https://www.tensorflow.org/api_docs/python/tf/keras/layers/ReLU)\n",
    " - [MaxPool2D](https://www.tensorflow.org/api_docs/python/tf/keras/layers/MaxPool2D): Use an 8 by 8 filter size and an 8 by 8 stride, padding is \"SAME\"\n",
    " - **Conv2D**: Use 16 2 by 2 filters, stride 1, padding is \"SAME\"\n",
    " - **ReLU**\n",
    " - **MaxPool2D**: Use a 4 by 4 filter size and a 4 by 4 stride, padding is \"SAME\"\n",
    " - [Flatten](https://www.tensorflow.org/api_docs/python/tf/keras/layers/Flatten) the previous output.\n",
    " - Fully-connected ([Dense](https://www.tensorflow.org/api_docs/python/tf/keras/layers/Dense)) layer: Apply a fully connected layer with 6 neurons and a softmax activation. "
   ]
  },
  {
   "cell_type": "code",
   "execution_count": 37,
   "metadata": {
    "deletable": false,
    "nbgrader": {
     "cell_type": "code",
     "checksum": "f58643806aa8380c96225fc8b4c5e7aa",
     "grade": false,
     "grade_id": "cell-dac51744a9e03f51",
     "locked": false,
     "schema_version": 3,
     "solution": true,
     "task": false
    }
   },
   "outputs": [],
   "source": [
    "# GRADED FUNCTION: convolutional_model\n",
    "\n",
    "def convolutional_model(input_shape):\n",
    "    \"\"\"\n",
    "    Implements the forward propagation for the model:\n",
    "    CONV2D -> RELU -> MAXPOOL -> CONV2D -> RELU -> MAXPOOL -> FLATTEN -> DENSE\n",
    "    \n",
    "    Note that for simplicity and grading purposes, you'll hard-code some values\n",
    "    such as the stride and kernel (filter) sizes. \n",
    "    Normally, functions should take these values as function parameters.\n",
    "    \n",
    "    Arguments:\n",
    "    input_img -- input dataset, of shape (input_shape)\n",
    "\n",
    "    Returns:\n",
    "    model -- TF Keras model (object containing the information for the entire training process) \n",
    "    \"\"\"\n",
    "\n",
    "    input_img = tf.keras.Input(shape=input_shape)\n",
    "    ## CONV2D: 8 filters 4x4, stride of 1, padding 'SAME'\n",
    "    # Z1 = \n",
    "    ## RELU\n",
    "    # A1 = None\n",
    "    ## MAXPOOL: window 8x8, stride 8, padding 'SAME'\n",
    "    # P1 = None\n",
    "    ## CONV2D: 16 filters 2x2, stride 1, padding 'SAME'\n",
    "    # Z2 = None\n",
    "    ## RELU\n",
    "    # A2 = None\n",
    "    ## MAXPOOL: window 4x4, stride 4, padding 'SAME'\n",
    "    # P2 = None\n",
    "    ## FLATTEN\n",
    "    # F = None\n",
    "    ## Dense layer\n",
    "    ## 6 neurons in output layer. Hint: one of the arguments should be \"activation='softmax'\" \n",
    "    # outputs = None\n",
    "    # YOUR CODE STARTS HERE\n",
    "    # CONV2D: 8 filters 4x4, stride of 1, padding 'SAME'\n",
    "    Z1 = tfl.Conv2D(8, 4, strides = 1, padding = 'same')(input_img)\n",
    "    # RELU\n",
    "    A1 = tfl.ReLU()(Z1)\n",
    "    # MAXPOOL: window 8x8, stride 8, padding 'SAME'\n",
    "    P1 = tfl.MaxPool2D(pool_size=(8,8), strides = 8, padding = 'same')(A1)\n",
    "    # CONV2D: 16 filters 2x2, stride 1, padding 'SAME'\n",
    "    Z2 = tfl.Conv2D(16, 2, strides = 1, padding = 'same')(P1)\n",
    "    # RELU\n",
    "    A2 = tfl.ReLU()(Z2)\n",
    "    # MAXPOOL: window 4x4, stride 4, padding 'SAME'\n",
    "    P2 = tfl.MaxPool2D(pool_size=(4,4), strides = 4, padding = 'same')(A2)\n",
    "    # FLATTEN\n",
    "    F = tfl.Flatten()(P2)\n",
    "    # Dense layer\n",
    "    # 6 neurons in output layer. Hint: one of the arguments should be \"activation='softmax'\" \n",
    "    outputs = tfl.Dense(units=6, activation='softmax')(F)\n",
    "    \n",
    "    # YOUR CODE ENDS HERE\n",
    "    model = tf.keras.Model(inputs=input_img, outputs=outputs)\n",
    "    return model"
   ]
  },
  {
   "cell_type": "code",
   "execution_count": 38,
   "metadata": {
    "deletable": false,
    "editable": false,
    "nbgrader": {
     "cell_type": "code",
     "checksum": "483d626949930a0b0ef20997e7c6ba72",
     "grade": true,
     "grade_id": "cell-45d22e92042174c9",
     "locked": true,
     "points": 10,
     "schema_version": 3,
     "solution": false,
     "task": false
    }
   },
   "outputs": [
    {
     "name": "stdout",
     "output_type": "stream",
     "text": [
      "Model: \"functional_1\"\n",
      "_________________________________________________________________\n",
      "Layer (type)                 Output Shape              Param #   \n",
      "=================================================================\n",
      "input_1 (InputLayer)         [(None, 64, 64, 3)]       0         \n",
      "_________________________________________________________________\n",
      "conv2d_8 (Conv2D)            (None, 64, 64, 8)         392       \n",
      "_________________________________________________________________\n",
      "re_lu_7 (ReLU)               (None, 64, 64, 8)         0         \n",
      "_________________________________________________________________\n",
      "max_pooling2d_7 (MaxPooling2 (None, 8, 8, 8)           0         \n",
      "_________________________________________________________________\n",
      "conv2d_9 (Conv2D)            (None, 8, 8, 16)          528       \n",
      "_________________________________________________________________\n",
      "re_lu_8 (ReLU)               (None, 8, 8, 16)          0         \n",
      "_________________________________________________________________\n",
      "max_pooling2d_8 (MaxPooling2 (None, 2, 2, 16)          0         \n",
      "_________________________________________________________________\n",
      "flatten_7 (Flatten)          (None, 64)                0         \n",
      "_________________________________________________________________\n",
      "dense_7 (Dense)              (None, 6)                 390       \n",
      "=================================================================\n",
      "Total params: 1,310\n",
      "Trainable params: 1,310\n",
      "Non-trainable params: 0\n",
      "_________________________________________________________________\n",
      "\u001b[32mAll tests passed!\u001b[0m\n"
     ]
    }
   ],
   "source": [
    "conv_model = convolutional_model((64, 64, 3))\n",
    "conv_model.compile(optimizer='adam',\n",
    "                  loss='categorical_crossentropy',\n",
    "                  metrics=['accuracy'])\n",
    "conv_model.summary()\n",
    "    \n",
    "output = [['InputLayer', [(None, 64, 64, 3)], 0],\n",
    "        ['Conv2D', (None, 64, 64, 8), 392, 'same', 'linear', 'GlorotUniform'],\n",
    "        ['ReLU', (None, 64, 64, 8), 0],\n",
    "        ['MaxPooling2D', (None, 8, 8, 8), 0, (8, 8), (8, 8), 'same'],\n",
    "        ['Conv2D', (None, 8, 8, 16), 528, 'same', 'linear', 'GlorotUniform'],\n",
    "        ['ReLU', (None, 8, 8, 16), 0],\n",
    "        ['MaxPooling2D', (None, 2, 2, 16), 0, (4, 4), (4, 4), 'same'],\n",
    "        ['Flatten', (None, 64), 0],\n",
    "        ['Dense', (None, 6), 390, 'softmax']]\n",
    "    \n",
    "comparator(summary(conv_model), output)"
   ]
  },
  {
   "cell_type": "markdown",
   "metadata": {},
   "source": [
    "Both the Sequential and Functional APIs return a TF Keras model object. The only difference is how inputs are handled inside the object model! "
   ]
  },
  {
   "cell_type": "markdown",
   "metadata": {},
   "source": [
    "<a name='4-4'></a>\n",
    "### 4.4 - Train the Model"
   ]
  },
  {
   "cell_type": "code",
   "execution_count": 39,
   "metadata": {},
   "outputs": [
    {
     "name": "stdout",
     "output_type": "stream",
     "text": [
      "Epoch 1/100\n",
      "17/17 [==============================] - 2s 100ms/step - loss: 1.8036 - accuracy: 0.2130 - val_loss: 1.7870 - val_accuracy: 0.2167\n",
      "Epoch 2/100\n",
      "17/17 [==============================] - 2s 100ms/step - loss: 1.7873 - accuracy: 0.2167 - val_loss: 1.7780 - val_accuracy: 0.2500\n",
      "Epoch 3/100\n",
      "17/17 [==============================] - 2s 100ms/step - loss: 1.7775 - accuracy: 0.2472 - val_loss: 1.7696 - val_accuracy: 0.2917\n",
      "Epoch 4/100\n",
      "17/17 [==============================] - 2s 95ms/step - loss: 1.7699 - accuracy: 0.2750 - val_loss: 1.7590 - val_accuracy: 0.3500\n",
      "Epoch 5/100\n",
      "17/17 [==============================] - 2s 95ms/step - loss: 1.7598 - accuracy: 0.3231 - val_loss: 1.7480 - val_accuracy: 0.3750\n",
      "Epoch 6/100\n",
      "17/17 [==============================] - 2s 100ms/step - loss: 1.7479 - accuracy: 0.3472 - val_loss: 1.7356 - val_accuracy: 0.4083\n",
      "Epoch 7/100\n",
      "17/17 [==============================] - 2s 101ms/step - loss: 1.7339 - accuracy: 0.3389 - val_loss: 1.7154 - val_accuracy: 0.4500\n",
      "Epoch 8/100\n",
      "17/17 [==============================] - 2s 100ms/step - loss: 1.7136 - accuracy: 0.3611 - val_loss: 1.6933 - val_accuracy: 0.3917\n",
      "Epoch 9/100\n",
      "17/17 [==============================] - 2s 100ms/step - loss: 1.6911 - accuracy: 0.3861 - val_loss: 1.6673 - val_accuracy: 0.3917\n",
      "Epoch 10/100\n",
      "17/17 [==============================] - 2s 100ms/step - loss: 1.6616 - accuracy: 0.4194 - val_loss: 1.6354 - val_accuracy: 0.4583\n",
      "Epoch 11/100\n",
      "17/17 [==============================] - 2s 100ms/step - loss: 1.6258 - accuracy: 0.4509 - val_loss: 1.5932 - val_accuracy: 0.4667\n",
      "Epoch 12/100\n",
      "17/17 [==============================] - 2s 100ms/step - loss: 1.5867 - accuracy: 0.4667 - val_loss: 1.5499 - val_accuracy: 0.4917\n",
      "Epoch 13/100\n",
      "17/17 [==============================] - 2s 100ms/step - loss: 1.5457 - accuracy: 0.4731 - val_loss: 1.5063 - val_accuracy: 0.5083\n",
      "Epoch 14/100\n",
      "17/17 [==============================] - 2s 100ms/step - loss: 1.5066 - accuracy: 0.4778 - val_loss: 1.4690 - val_accuracy: 0.5167\n",
      "Epoch 15/100\n",
      "17/17 [==============================] - 2s 100ms/step - loss: 1.4642 - accuracy: 0.4944 - val_loss: 1.4231 - val_accuracy: 0.5167\n",
      "Epoch 16/100\n",
      "17/17 [==============================] - 2s 100ms/step - loss: 1.4267 - accuracy: 0.5065 - val_loss: 1.3831 - val_accuracy: 0.5500\n",
      "Epoch 17/100\n",
      "17/17 [==============================] - 2s 100ms/step - loss: 1.3897 - accuracy: 0.5130 - val_loss: 1.3537 - val_accuracy: 0.5500\n",
      "Epoch 18/100\n",
      "17/17 [==============================] - 2s 100ms/step - loss: 1.3514 - accuracy: 0.5250 - val_loss: 1.3127 - val_accuracy: 0.5583\n",
      "Epoch 19/100\n",
      "17/17 [==============================] - 2s 100ms/step - loss: 1.3191 - accuracy: 0.5370 - val_loss: 1.2808 - val_accuracy: 0.5667\n",
      "Epoch 20/100\n",
      "17/17 [==============================] - 2s 105ms/step - loss: 1.2915 - accuracy: 0.5444 - val_loss: 1.2588 - val_accuracy: 0.5833\n",
      "Epoch 21/100\n",
      "17/17 [==============================] - 2s 100ms/step - loss: 1.2591 - accuracy: 0.5556 - val_loss: 1.2375 - val_accuracy: 0.5750\n",
      "Epoch 22/100\n",
      "17/17 [==============================] - 2s 95ms/step - loss: 1.2209 - accuracy: 0.5731 - val_loss: 1.2016 - val_accuracy: 0.5917\n",
      "Epoch 23/100\n",
      "17/17 [==============================] - 2s 100ms/step - loss: 1.1958 - accuracy: 0.5833 - val_loss: 1.1804 - val_accuracy: 0.5917\n",
      "Epoch 24/100\n",
      "17/17 [==============================] - 2s 100ms/step - loss: 1.1786 - accuracy: 0.5917 - val_loss: 1.1611 - val_accuracy: 0.6000\n",
      "Epoch 25/100\n",
      "17/17 [==============================] - 2s 100ms/step - loss: 1.1492 - accuracy: 0.5991 - val_loss: 1.1437 - val_accuracy: 0.6000\n",
      "Epoch 26/100\n",
      "17/17 [==============================] - 2s 100ms/step - loss: 1.1166 - accuracy: 0.6130 - val_loss: 1.1161 - val_accuracy: 0.6167\n",
      "Epoch 27/100\n",
      "17/17 [==============================] - 2s 101ms/step - loss: 1.0987 - accuracy: 0.6204 - val_loss: 1.0982 - val_accuracy: 0.6250\n",
      "Epoch 28/100\n",
      "17/17 [==============================] - 2s 95ms/step - loss: 1.0819 - accuracy: 0.6352 - val_loss: 1.0818 - val_accuracy: 0.6167\n",
      "Epoch 29/100\n",
      "17/17 [==============================] - 2s 100ms/step - loss: 1.0617 - accuracy: 0.6407 - val_loss: 1.0648 - val_accuracy: 0.6000\n",
      "Epoch 30/100\n",
      "17/17 [==============================] - 2s 101ms/step - loss: 1.0404 - accuracy: 0.6463 - val_loss: 1.0495 - val_accuracy: 0.6000\n",
      "Epoch 31/100\n",
      "17/17 [==============================] - 2s 100ms/step - loss: 1.0195 - accuracy: 0.6537 - val_loss: 1.0336 - val_accuracy: 0.6167\n",
      "Epoch 32/100\n",
      "17/17 [==============================] - 2s 100ms/step - loss: 1.0031 - accuracy: 0.6583 - val_loss: 1.0204 - val_accuracy: 0.6333\n",
      "Epoch 33/100\n",
      "17/17 [==============================] - 2s 100ms/step - loss: 0.9846 - accuracy: 0.6657 - val_loss: 1.0058 - val_accuracy: 0.6417\n",
      "Epoch 34/100\n",
      "17/17 [==============================] - 2s 100ms/step - loss: 0.9699 - accuracy: 0.6741 - val_loss: 0.9930 - val_accuracy: 0.6417\n",
      "Epoch 35/100\n",
      "17/17 [==============================] - 2s 100ms/step - loss: 0.9533 - accuracy: 0.6759 - val_loss: 0.9803 - val_accuracy: 0.6417\n",
      "Epoch 36/100\n",
      "17/17 [==============================] - 2s 100ms/step - loss: 0.9398 - accuracy: 0.6852 - val_loss: 0.9688 - val_accuracy: 0.6500\n",
      "Epoch 37/100\n",
      "17/17 [==============================] - 2s 100ms/step - loss: 0.9244 - accuracy: 0.6935 - val_loss: 0.9573 - val_accuracy: 0.6500\n",
      "Epoch 38/100\n",
      "17/17 [==============================] - 2s 100ms/step - loss: 0.9105 - accuracy: 0.6972 - val_loss: 0.9451 - val_accuracy: 0.6417\n",
      "Epoch 39/100\n",
      "17/17 [==============================] - 2s 100ms/step - loss: 0.8978 - accuracy: 0.7019 - val_loss: 0.9343 - val_accuracy: 0.6417\n",
      "Epoch 40/100\n",
      "17/17 [==============================] - 2s 100ms/step - loss: 0.8848 - accuracy: 0.7083 - val_loss: 0.9229 - val_accuracy: 0.6417\n",
      "Epoch 41/100\n",
      "17/17 [==============================] - 2s 101ms/step - loss: 0.8731 - accuracy: 0.7139 - val_loss: 0.9129 - val_accuracy: 0.6667\n",
      "Epoch 42/100\n",
      "17/17 [==============================] - 2s 100ms/step - loss: 0.8609 - accuracy: 0.7213 - val_loss: 0.9029 - val_accuracy: 0.6667\n",
      "Epoch 43/100\n",
      "17/17 [==============================] - 2s 100ms/step - loss: 0.8500 - accuracy: 0.7213 - val_loss: 0.8931 - val_accuracy: 0.6833\n",
      "Epoch 44/100\n",
      "17/17 [==============================] - 2s 106ms/step - loss: 0.8391 - accuracy: 0.7269 - val_loss: 0.8843 - val_accuracy: 0.6833\n",
      "Epoch 45/100\n",
      "17/17 [==============================] - 2s 100ms/step - loss: 0.8288 - accuracy: 0.7306 - val_loss: 0.8757 - val_accuracy: 0.6833\n",
      "Epoch 46/100\n",
      "17/17 [==============================] - 2s 100ms/step - loss: 0.8184 - accuracy: 0.7343 - val_loss: 0.8679 - val_accuracy: 0.7000\n",
      "Epoch 47/100\n",
      "17/17 [==============================] - 2s 100ms/step - loss: 0.8085 - accuracy: 0.7361 - val_loss: 0.8597 - val_accuracy: 0.7000\n",
      "Epoch 48/100\n",
      "17/17 [==============================] - 2s 105ms/step - loss: 0.7991 - accuracy: 0.7380 - val_loss: 0.8520 - val_accuracy: 0.7000\n",
      "Epoch 49/100\n",
      "17/17 [==============================] - 2s 100ms/step - loss: 0.7897 - accuracy: 0.7444 - val_loss: 0.8447 - val_accuracy: 0.7083\n",
      "Epoch 50/100\n",
      "17/17 [==============================] - 2s 100ms/step - loss: 0.7808 - accuracy: 0.7481 - val_loss: 0.8371 - val_accuracy: 0.7167\n",
      "Epoch 51/100\n",
      "17/17 [==============================] - 2s 100ms/step - loss: 0.7720 - accuracy: 0.7509 - val_loss: 0.8302 - val_accuracy: 0.7167\n",
      "Epoch 52/100\n",
      "17/17 [==============================] - 2s 100ms/step - loss: 0.7635 - accuracy: 0.7546 - val_loss: 0.8228 - val_accuracy: 0.7250\n",
      "Epoch 53/100\n",
      "17/17 [==============================] - 2s 100ms/step - loss: 0.7550 - accuracy: 0.7583 - val_loss: 0.8165 - val_accuracy: 0.7250\n",
      "Epoch 54/100\n",
      "17/17 [==============================] - 2s 100ms/step - loss: 0.7466 - accuracy: 0.7630 - val_loss: 0.8094 - val_accuracy: 0.7250\n",
      "Epoch 55/100\n",
      "17/17 [==============================] - 2s 95ms/step - loss: 0.7386 - accuracy: 0.7630 - val_loss: 0.8031 - val_accuracy: 0.7083\n",
      "Epoch 56/100\n",
      "17/17 [==============================] - 2s 95ms/step - loss: 0.7308 - accuracy: 0.7694 - val_loss: 0.7960 - val_accuracy: 0.7167\n",
      "Epoch 57/100\n",
      "17/17 [==============================] - 2s 100ms/step - loss: 0.7237 - accuracy: 0.7713 - val_loss: 0.7899 - val_accuracy: 0.7083\n"
     ]
    },
    {
     "name": "stdout",
     "output_type": "stream",
     "text": [
      "Epoch 58/100\n",
      "17/17 [==============================] - 2s 95ms/step - loss: 0.7160 - accuracy: 0.7722 - val_loss: 0.7831 - val_accuracy: 0.7083\n",
      "Epoch 59/100\n",
      "17/17 [==============================] - 2s 100ms/step - loss: 0.7086 - accuracy: 0.7759 - val_loss: 0.7765 - val_accuracy: 0.7083\n",
      "Epoch 60/100\n",
      "17/17 [==============================] - 2s 100ms/step - loss: 0.7018 - accuracy: 0.7824 - val_loss: 0.7713 - val_accuracy: 0.7083\n",
      "Epoch 61/100\n",
      "17/17 [==============================] - 2s 95ms/step - loss: 0.6946 - accuracy: 0.7861 - val_loss: 0.7650 - val_accuracy: 0.7083\n",
      "Epoch 62/100\n",
      "17/17 [==============================] - 2s 100ms/step - loss: 0.6879 - accuracy: 0.7861 - val_loss: 0.7594 - val_accuracy: 0.7250\n",
      "Epoch 63/100\n",
      "17/17 [==============================] - 2s 101ms/step - loss: 0.6810 - accuracy: 0.7880 - val_loss: 0.7541 - val_accuracy: 0.7250\n",
      "Epoch 64/100\n",
      "17/17 [==============================] - 2s 100ms/step - loss: 0.6745 - accuracy: 0.7907 - val_loss: 0.7488 - val_accuracy: 0.7417\n",
      "Epoch 65/100\n",
      "17/17 [==============================] - 2s 101ms/step - loss: 0.6688 - accuracy: 0.7944 - val_loss: 0.7442 - val_accuracy: 0.7417\n",
      "Epoch 66/100\n",
      "17/17 [==============================] - 2s 100ms/step - loss: 0.6622 - accuracy: 0.7944 - val_loss: 0.7389 - val_accuracy: 0.7417\n",
      "Epoch 67/100\n",
      "17/17 [==============================] - 2s 100ms/step - loss: 0.6557 - accuracy: 0.7954 - val_loss: 0.7338 - val_accuracy: 0.7417\n",
      "Epoch 68/100\n",
      "17/17 [==============================] - 2s 95ms/step - loss: 0.6497 - accuracy: 0.7972 - val_loss: 0.7285 - val_accuracy: 0.7500\n",
      "Epoch 69/100\n",
      "17/17 [==============================] - 2s 100ms/step - loss: 0.6443 - accuracy: 0.7981 - val_loss: 0.7245 - val_accuracy: 0.7500\n",
      "Epoch 70/100\n",
      "17/17 [==============================] - 2s 101ms/step - loss: 0.6383 - accuracy: 0.7981 - val_loss: 0.7194 - val_accuracy: 0.7500\n",
      "Epoch 71/100\n",
      "17/17 [==============================] - 2s 100ms/step - loss: 0.6324 - accuracy: 0.8000 - val_loss: 0.7142 - val_accuracy: 0.7500\n",
      "Epoch 72/100\n",
      "17/17 [==============================] - 2s 101ms/step - loss: 0.6273 - accuracy: 0.8028 - val_loss: 0.7103 - val_accuracy: 0.7500\n",
      "Epoch 73/100\n",
      "17/17 [==============================] - 2s 100ms/step - loss: 0.6219 - accuracy: 0.8046 - val_loss: 0.7058 - val_accuracy: 0.7500\n",
      "Epoch 74/100\n",
      "17/17 [==============================] - 2s 100ms/step - loss: 0.6169 - accuracy: 0.8037 - val_loss: 0.7018 - val_accuracy: 0.7500\n",
      "Epoch 75/100\n",
      "17/17 [==============================] - 2s 100ms/step - loss: 0.6119 - accuracy: 0.8028 - val_loss: 0.6970 - val_accuracy: 0.7500\n",
      "Epoch 76/100\n",
      "17/17 [==============================] - 2s 106ms/step - loss: 0.6068 - accuracy: 0.8037 - val_loss: 0.6927 - val_accuracy: 0.7500\n",
      "Epoch 77/100\n",
      "17/17 [==============================] - 2s 100ms/step - loss: 0.6019 - accuracy: 0.8065 - val_loss: 0.6887 - val_accuracy: 0.7500\n",
      "Epoch 78/100\n",
      "17/17 [==============================] - 2s 101ms/step - loss: 0.5974 - accuracy: 0.8083 - val_loss: 0.6849 - val_accuracy: 0.7500\n",
      "Epoch 79/100\n",
      "17/17 [==============================] - 2s 96ms/step - loss: 0.5929 - accuracy: 0.8074 - val_loss: 0.6804 - val_accuracy: 0.7583\n",
      "Epoch 80/100\n",
      "17/17 [==============================] - 2s 100ms/step - loss: 0.5883 - accuracy: 0.8093 - val_loss: 0.6768 - val_accuracy: 0.7583\n",
      "Epoch 81/100\n",
      "17/17 [==============================] - 2s 100ms/step - loss: 0.5840 - accuracy: 0.8083 - val_loss: 0.6734 - val_accuracy: 0.7583\n",
      "Epoch 82/100\n",
      "17/17 [==============================] - 2s 100ms/step - loss: 0.5799 - accuracy: 0.8111 - val_loss: 0.6700 - val_accuracy: 0.7583\n",
      "Epoch 83/100\n",
      "17/17 [==============================] - 2s 100ms/step - loss: 0.5753 - accuracy: 0.8120 - val_loss: 0.6663 - val_accuracy: 0.7583\n",
      "Epoch 84/100\n",
      "17/17 [==============================] - 2s 100ms/step - loss: 0.5708 - accuracy: 0.8148 - val_loss: 0.6627 - val_accuracy: 0.7583\n",
      "Epoch 85/100\n",
      "17/17 [==============================] - 2s 100ms/step - loss: 0.5667 - accuracy: 0.8157 - val_loss: 0.6592 - val_accuracy: 0.7583\n",
      "Epoch 86/100\n",
      "17/17 [==============================] - 2s 96ms/step - loss: 0.5626 - accuracy: 0.8167 - val_loss: 0.6557 - val_accuracy: 0.7583\n",
      "Epoch 87/100\n",
      "17/17 [==============================] - 2s 100ms/step - loss: 0.5586 - accuracy: 0.8167 - val_loss: 0.6526 - val_accuracy: 0.7583\n",
      "Epoch 88/100\n",
      "17/17 [==============================] - 2s 101ms/step - loss: 0.5548 - accuracy: 0.8176 - val_loss: 0.6488 - val_accuracy: 0.7583\n",
      "Epoch 89/100\n",
      "17/17 [==============================] - 2s 100ms/step - loss: 0.5509 - accuracy: 0.8185 - val_loss: 0.6456 - val_accuracy: 0.7583\n",
      "Epoch 90/100\n",
      "17/17 [==============================] - 2s 100ms/step - loss: 0.5472 - accuracy: 0.8185 - val_loss: 0.6424 - val_accuracy: 0.7583\n",
      "Epoch 91/100\n",
      "17/17 [==============================] - 2s 100ms/step - loss: 0.5434 - accuracy: 0.8241 - val_loss: 0.6402 - val_accuracy: 0.7667\n",
      "Epoch 92/100\n",
      "17/17 [==============================] - 2s 100ms/step - loss: 0.5397 - accuracy: 0.8250 - val_loss: 0.6367 - val_accuracy: 0.7667\n",
      "Epoch 93/100\n",
      "17/17 [==============================] - 2s 101ms/step - loss: 0.5362 - accuracy: 0.8241 - val_loss: 0.6341 - val_accuracy: 0.7667\n",
      "Epoch 94/100\n",
      "17/17 [==============================] - 2s 100ms/step - loss: 0.5324 - accuracy: 0.8296 - val_loss: 0.6307 - val_accuracy: 0.7750\n",
      "Epoch 95/100\n",
      "17/17 [==============================] - 2s 95ms/step - loss: 0.5287 - accuracy: 0.8287 - val_loss: 0.6267 - val_accuracy: 0.7750\n",
      "Epoch 96/100\n",
      "17/17 [==============================] - 2s 100ms/step - loss: 0.5255 - accuracy: 0.8315 - val_loss: 0.6234 - val_accuracy: 0.7833\n",
      "Epoch 97/100\n",
      "17/17 [==============================] - 2s 100ms/step - loss: 0.5218 - accuracy: 0.8324 - val_loss: 0.6200 - val_accuracy: 0.7833\n",
      "Epoch 98/100\n",
      "17/17 [==============================] - 2s 100ms/step - loss: 0.5181 - accuracy: 0.8380 - val_loss: 0.6168 - val_accuracy: 0.7917\n",
      "Epoch 99/100\n",
      "17/17 [==============================] - 2s 100ms/step - loss: 0.5147 - accuracy: 0.8370 - val_loss: 0.6138 - val_accuracy: 0.7917\n",
      "Epoch 100/100\n",
      "17/17 [==============================] - 2s 100ms/step - loss: 0.5115 - accuracy: 0.8389 - val_loss: 0.6109 - val_accuracy: 0.7917\n"
     ]
    }
   ],
   "source": [
    "train_dataset = tf.data.Dataset.from_tensor_slices((X_train, Y_train)).batch(64)\n",
    "test_dataset = tf.data.Dataset.from_tensor_slices((X_test, Y_test)).batch(64)\n",
    "history = conv_model.fit(train_dataset, epochs=100, validation_data=test_dataset)"
   ]
  },
  {
   "cell_type": "markdown",
   "metadata": {},
   "source": [
    "<a name='5'></a>\n",
    "## 5 - History Object \n",
    "\n",
    "The history object is an output of the `.fit()` operation, and provides a record of all the loss and metric values in memory. It's stored as a dictionary that you can retrieve at `history.history`: "
   ]
  },
  {
   "cell_type": "code",
   "execution_count": 40,
   "metadata": {},
   "outputs": [
    {
     "data": {
      "text/plain": [
       "{'loss': [1.8036364316940308,\n",
       "  1.787274956703186,\n",
       "  1.7775176763534546,\n",
       "  1.7698696851730347,\n",
       "  1.7597638368606567,\n",
       "  1.7479478120803833,\n",
       "  1.7338542938232422,\n",
       "  1.7136495113372803,\n",
       "  1.6911349296569824,\n",
       "  1.6615546941757202,\n",
       "  1.625795602798462,\n",
       "  1.586693525314331,\n",
       "  1.5456842184066772,\n",
       "  1.506562352180481,\n",
       "  1.4641801118850708,\n",
       "  1.4266983270645142,\n",
       "  1.3897337913513184,\n",
       "  1.351398229598999,\n",
       "  1.3190945386886597,\n",
       "  1.291527271270752,\n",
       "  1.259116768836975,\n",
       "  1.2209436893463135,\n",
       "  1.1958290338516235,\n",
       "  1.178558111190796,\n",
       "  1.1492109298706055,\n",
       "  1.1165528297424316,\n",
       "  1.098693609237671,\n",
       "  1.0819059610366821,\n",
       "  1.0617461204528809,\n",
       "  1.0403835773468018,\n",
       "  1.0194528102874756,\n",
       "  1.0030640363693237,\n",
       "  0.9845679402351379,\n",
       "  0.9699233174324036,\n",
       "  0.9532762169837952,\n",
       "  0.9397910237312317,\n",
       "  0.9243944883346558,\n",
       "  0.9105048179626465,\n",
       "  0.8978263139724731,\n",
       "  0.8848463892936707,\n",
       "  0.8730517029762268,\n",
       "  0.8609145283699036,\n",
       "  0.849984347820282,\n",
       "  0.8390505313873291,\n",
       "  0.8287761211395264,\n",
       "  0.8184309601783752,\n",
       "  0.8084540963172913,\n",
       "  0.7990893125534058,\n",
       "  0.7897154092788696,\n",
       "  0.78083735704422,\n",
       "  0.7719919085502625,\n",
       "  0.763534665107727,\n",
       "  0.755003035068512,\n",
       "  0.7465951442718506,\n",
       "  0.7385731935501099,\n",
       "  0.7308201789855957,\n",
       "  0.7236758470535278,\n",
       "  0.7159554362297058,\n",
       "  0.7086403369903564,\n",
       "  0.7018284201622009,\n",
       "  0.6945664882659912,\n",
       "  0.6878594160079956,\n",
       "  0.6810471415519714,\n",
       "  0.6744561195373535,\n",
       "  0.6687528491020203,\n",
       "  0.6621837615966797,\n",
       "  0.6556996703147888,\n",
       "  0.6496737003326416,\n",
       "  0.6442694067955017,\n",
       "  0.6383028626441956,\n",
       "  0.6324288249015808,\n",
       "  0.6272692680358887,\n",
       "  0.6219388842582703,\n",
       "  0.6169484257698059,\n",
       "  0.6118990182876587,\n",
       "  0.6067746877670288,\n",
       "  0.6019322276115417,\n",
       "  0.5974164009094238,\n",
       "  0.5929464101791382,\n",
       "  0.5882952213287354,\n",
       "  0.5840367674827576,\n",
       "  0.5799022912979126,\n",
       "  0.5753180980682373,\n",
       "  0.5708288550376892,\n",
       "  0.5667293071746826,\n",
       "  0.5626227855682373,\n",
       "  0.5585507154464722,\n",
       "  0.5547997355461121,\n",
       "  0.5508823394775391,\n",
       "  0.5472068786621094,\n",
       "  0.5434039235115051,\n",
       "  0.5396881103515625,\n",
       "  0.5361711382865906,\n",
       "  0.5324167609214783,\n",
       "  0.5286523699760437,\n",
       "  0.5254883766174316,\n",
       "  0.5218014121055603,\n",
       "  0.5180742144584656,\n",
       "  0.5147050619125366,\n",
       "  0.511544406414032],\n",
       " 'accuracy': [0.21296297013759613,\n",
       "  0.21666666865348816,\n",
       "  0.24722221493721008,\n",
       "  0.2750000059604645,\n",
       "  0.3231481611728668,\n",
       "  0.3472222089767456,\n",
       "  0.33888888359069824,\n",
       "  0.3611111044883728,\n",
       "  0.3861111104488373,\n",
       "  0.4194444417953491,\n",
       "  0.45092591643333435,\n",
       "  0.46666666865348816,\n",
       "  0.4731481373310089,\n",
       "  0.47777777910232544,\n",
       "  0.49444442987442017,\n",
       "  0.5064814686775208,\n",
       "  0.5129629373550415,\n",
       "  0.5249999761581421,\n",
       "  0.5370370149612427,\n",
       "  0.5444444417953491,\n",
       "  0.5555555820465088,\n",
       "  0.5731481313705444,\n",
       "  0.5833333134651184,\n",
       "  0.5916666388511658,\n",
       "  0.5990740656852722,\n",
       "  0.6129629611968994,\n",
       "  0.6203703880310059,\n",
       "  0.635185182094574,\n",
       "  0.6407407522201538,\n",
       "  0.6462963223457336,\n",
       "  0.6537036895751953,\n",
       "  0.6583333611488342,\n",
       "  0.6657407283782959,\n",
       "  0.6740740537643433,\n",
       "  0.6759259104728699,\n",
       "  0.6851851940155029,\n",
       "  0.6935185194015503,\n",
       "  0.6972222328186035,\n",
       "  0.7018518447875977,\n",
       "  0.7083333134651184,\n",
       "  0.7138888835906982,\n",
       "  0.7212963104248047,\n",
       "  0.7212963104248047,\n",
       "  0.7268518805503845,\n",
       "  0.730555534362793,\n",
       "  0.7342592477798462,\n",
       "  0.7361111044883728,\n",
       "  0.7379629611968994,\n",
       "  0.7444444298744202,\n",
       "  0.7481481432914734,\n",
       "  0.7509258985519409,\n",
       "  0.7546296119689941,\n",
       "  0.7583333253860474,\n",
       "  0.7629629373550415,\n",
       "  0.7629629373550415,\n",
       "  0.769444465637207,\n",
       "  0.7712963223457336,\n",
       "  0.7722222208976746,\n",
       "  0.7759259343147278,\n",
       "  0.7824074029922485,\n",
       "  0.7861111164093018,\n",
       "  0.7861111164093018,\n",
       "  0.7879629731178284,\n",
       "  0.7907407283782959,\n",
       "  0.7944444417953491,\n",
       "  0.7944444417953491,\n",
       "  0.7953703999519348,\n",
       "  0.7972221970558167,\n",
       "  0.7981481552124023,\n",
       "  0.7981481552124023,\n",
       "  0.800000011920929,\n",
       "  0.8027777671813965,\n",
       "  0.8046296238899231,\n",
       "  0.8037037253379822,\n",
       "  0.8027777671813965,\n",
       "  0.8037037253379822,\n",
       "  0.8064814805984497,\n",
       "  0.8083333373069763,\n",
       "  0.8074073791503906,\n",
       "  0.8092592358589172,\n",
       "  0.8083333373069763,\n",
       "  0.8111110925674438,\n",
       "  0.8120370507240295,\n",
       "  0.8148148059844971,\n",
       "  0.8157407641410828,\n",
       "  0.8166666626930237,\n",
       "  0.8166666626930237,\n",
       "  0.8175926208496094,\n",
       "  0.8185185194015503,\n",
       "  0.8185185194015503,\n",
       "  0.8240740895271301,\n",
       "  0.824999988079071,\n",
       "  0.8240740895271301,\n",
       "  0.8296296000480652,\n",
       "  0.8287037014961243,\n",
       "  0.8314814567565918,\n",
       "  0.8324074149131775,\n",
       "  0.8379629850387573,\n",
       "  0.8370370268821716,\n",
       "  0.8388888835906982],\n",
       " 'val_loss': [1.7870088815689087,\n",
       "  1.7780115604400635,\n",
       "  1.7695541381835938,\n",
       "  1.7589647769927979,\n",
       "  1.7479808330535889,\n",
       "  1.7356427907943726,\n",
       "  1.7154395580291748,\n",
       "  1.6933354139328003,\n",
       "  1.6673071384429932,\n",
       "  1.6353925466537476,\n",
       "  1.5931551456451416,\n",
       "  1.5498863458633423,\n",
       "  1.5062931776046753,\n",
       "  1.4690269231796265,\n",
       "  1.423071265220642,\n",
       "  1.3830572366714478,\n",
       "  1.3536982536315918,\n",
       "  1.3127284049987793,\n",
       "  1.2808259725570679,\n",
       "  1.258769154548645,\n",
       "  1.2374999523162842,\n",
       "  1.2015860080718994,\n",
       "  1.180356740951538,\n",
       "  1.1610733270645142,\n",
       "  1.1437041759490967,\n",
       "  1.116091012954712,\n",
       "  1.098199725151062,\n",
       "  1.0817500352859497,\n",
       "  1.064832329750061,\n",
       "  1.0494681596755981,\n",
       "  1.0336424112319946,\n",
       "  1.020379662513733,\n",
       "  1.0058434009552002,\n",
       "  0.9929578304290771,\n",
       "  0.9802767634391785,\n",
       "  0.9687595367431641,\n",
       "  0.957275390625,\n",
       "  0.9450673460960388,\n",
       "  0.9343343377113342,\n",
       "  0.9228940606117249,\n",
       "  0.9129159450531006,\n",
       "  0.9028529524803162,\n",
       "  0.8930858373641968,\n",
       "  0.8842809796333313,\n",
       "  0.8757450580596924,\n",
       "  0.867884635925293,\n",
       "  0.8596556186676025,\n",
       "  0.8519724011421204,\n",
       "  0.844671905040741,\n",
       "  0.8371241092681885,\n",
       "  0.8302475810050964,\n",
       "  0.8227789998054504,\n",
       "  0.8165379762649536,\n",
       "  0.8094447255134583,\n",
       "  0.8031498193740845,\n",
       "  0.7959616780281067,\n",
       "  0.7898809909820557,\n",
       "  0.783096194267273,\n",
       "  0.7764847874641418,\n",
       "  0.7712798714637756,\n",
       "  0.7649648189544678,\n",
       "  0.7594024538993835,\n",
       "  0.7541071772575378,\n",
       "  0.7487680912017822,\n",
       "  0.7442477345466614,\n",
       "  0.7388604879379272,\n",
       "  0.7337770462036133,\n",
       "  0.7284528017044067,\n",
       "  0.7244674563407898,\n",
       "  0.7193616032600403,\n",
       "  0.7141609191894531,\n",
       "  0.7103197574615479,\n",
       "  0.7057911157608032,\n",
       "  0.7017526626586914,\n",
       "  0.6970087289810181,\n",
       "  0.692701518535614,\n",
       "  0.6886805295944214,\n",
       "  0.6848636865615845,\n",
       "  0.6804375052452087,\n",
       "  0.6767942905426025,\n",
       "  0.6733805537223816,\n",
       "  0.6700340509414673,\n",
       "  0.6663302183151245,\n",
       "  0.6626922488212585,\n",
       "  0.659168541431427,\n",
       "  0.6557490229606628,\n",
       "  0.6525614261627197,\n",
       "  0.6488226652145386,\n",
       "  0.6455872654914856,\n",
       "  0.6424147486686707,\n",
       "  0.6401678919792175,\n",
       "  0.6367305517196655,\n",
       "  0.6341391205787659,\n",
       "  0.6306754350662231,\n",
       "  0.6267312169075012,\n",
       "  0.6234163045883179,\n",
       "  0.6199743151664734,\n",
       "  0.6168320775032043,\n",
       "  0.6138185858726501,\n",
       "  0.6108676791191101],\n",
       " 'val_accuracy': [0.21666666865348816,\n",
       "  0.25,\n",
       "  0.2916666567325592,\n",
       "  0.3499999940395355,\n",
       "  0.375,\n",
       "  0.40833333134651184,\n",
       "  0.44999998807907104,\n",
       "  0.3916666805744171,\n",
       "  0.3916666805744171,\n",
       "  0.4583333432674408,\n",
       "  0.46666666865348816,\n",
       "  0.49166667461395264,\n",
       "  0.5083333253860474,\n",
       "  0.5166666507720947,\n",
       "  0.5166666507720947,\n",
       "  0.550000011920929,\n",
       "  0.550000011920929,\n",
       "  0.5583333373069763,\n",
       "  0.5666666626930237,\n",
       "  0.5833333134651184,\n",
       "  0.574999988079071,\n",
       "  0.5916666388511658,\n",
       "  0.5916666388511658,\n",
       "  0.6000000238418579,\n",
       "  0.6000000238418579,\n",
       "  0.6166666746139526,\n",
       "  0.625,\n",
       "  0.6166666746139526,\n",
       "  0.6000000238418579,\n",
       "  0.6000000238418579,\n",
       "  0.6166666746139526,\n",
       "  0.6333333253860474,\n",
       "  0.6416666507720947,\n",
       "  0.6416666507720947,\n",
       "  0.6416666507720947,\n",
       "  0.6499999761581421,\n",
       "  0.6499999761581421,\n",
       "  0.6416666507720947,\n",
       "  0.6416666507720947,\n",
       "  0.6416666507720947,\n",
       "  0.6666666865348816,\n",
       "  0.6666666865348816,\n",
       "  0.6833333373069763,\n",
       "  0.6833333373069763,\n",
       "  0.6833333373069763,\n",
       "  0.699999988079071,\n",
       "  0.699999988079071,\n",
       "  0.699999988079071,\n",
       "  0.7083333134651184,\n",
       "  0.7166666388511658,\n",
       "  0.7166666388511658,\n",
       "  0.7250000238418579,\n",
       "  0.7250000238418579,\n",
       "  0.7250000238418579,\n",
       "  0.7083333134651184,\n",
       "  0.7166666388511658,\n",
       "  0.7083333134651184,\n",
       "  0.7083333134651184,\n",
       "  0.7083333134651184,\n",
       "  0.7083333134651184,\n",
       "  0.7083333134651184,\n",
       "  0.7250000238418579,\n",
       "  0.7250000238418579,\n",
       "  0.7416666746139526,\n",
       "  0.7416666746139526,\n",
       "  0.7416666746139526,\n",
       "  0.7416666746139526,\n",
       "  0.75,\n",
       "  0.75,\n",
       "  0.75,\n",
       "  0.75,\n",
       "  0.75,\n",
       "  0.75,\n",
       "  0.75,\n",
       "  0.75,\n",
       "  0.75,\n",
       "  0.75,\n",
       "  0.75,\n",
       "  0.7583333253860474,\n",
       "  0.7583333253860474,\n",
       "  0.7583333253860474,\n",
       "  0.7583333253860474,\n",
       "  0.7583333253860474,\n",
       "  0.7583333253860474,\n",
       "  0.7583333253860474,\n",
       "  0.7583333253860474,\n",
       "  0.7583333253860474,\n",
       "  0.7583333253860474,\n",
       "  0.7583333253860474,\n",
       "  0.7583333253860474,\n",
       "  0.7666666507720947,\n",
       "  0.7666666507720947,\n",
       "  0.7666666507720947,\n",
       "  0.7749999761581421,\n",
       "  0.7749999761581421,\n",
       "  0.7833333611488342,\n",
       "  0.7833333611488342,\n",
       "  0.7916666865348816,\n",
       "  0.7916666865348816,\n",
       "  0.7916666865348816]}"
      ]
     },
     "execution_count": 40,
     "metadata": {},
     "output_type": "execute_result"
    }
   ],
   "source": [
    "history.history"
   ]
  },
  {
   "cell_type": "markdown",
   "metadata": {},
   "source": [
    "Now visualize the loss over time using `history.history`: "
   ]
  },
  {
   "cell_type": "code",
   "execution_count": 41,
   "metadata": {},
   "outputs": [
    {
     "data": {
      "text/plain": [
       "[Text(0, 0.5, 'Accuracy'), Text(0.5, 0, 'Epoch')]"
      ]
     },
     "execution_count": 41,
     "metadata": {},
     "output_type": "execute_result"
    },
    {
     "data": {
      "image/png": "[encoded data removed]",
      "text/plain": [
       "<Figure size 864x576 with 1 Axes>"
      ]
     },
     "metadata": {
      "needs_background": "light"
     },
     "output_type": "display_data"
    },
    {
     "data": {
      "image/png": "[encoded data removed]",
      "text/plain": [
       "<Figure size 864x576 with 1 Axes>"
      ]
     },
     "metadata": {
      "needs_background": "light"
     },
     "output_type": "display_data"
    }
   ],
   "source": [
    "# The history.history[\"loss\"] entry is a dictionary with as many values as epochs that the\n",
    "# model was trained on. \n",
    "df_loss_acc = pd.DataFrame(history.history)\n",
    "df_loss= df_loss_acc[['loss','val_loss']]\n",
    "df_loss.rename(columns={'loss':'train','val_loss':'validation'},inplace=True)\n",
    "df_acc= df_loss_acc[['accuracy','val_accuracy']]\n",
    "df_acc.rename(columns={'accuracy':'train','val_accuracy':'validation'},inplace=True)\n",
    "df_loss.plot(title='Model loss',figsize=(12,8)).set(xlabel='Epoch',ylabel='Loss')\n",
    "df_acc.plot(title='Model Accuracy',figsize=(12,8)).set(xlabel='Epoch',ylabel='Accuracy')"
   ]
  },
  {
   "cell_type": "markdown",
   "metadata": {},
   "source": [
    "**Congratulations**! You've finished the assignment and built two models: One that recognizes  smiles, and another that recognizes SIGN language with almost 80% accuracy on the test set. In addition to that, you now also understand the applications of two Keras APIs: Sequential and Functional. Nicely done! \n",
    "\n",
    "By now, you know a bit about how the Functional API works and may have glimpsed the possibilities. In your next assignment, you'll really get a feel for its power when you get the opportunity to build a very deep ConvNet, using ResNets! "
   ]
  },
  {
   "cell_type": "markdown",
   "metadata": {},
   "source": [
    "<a name='6'></a>\n",
    "## 6 - Bibliography\n",
    "\n",
    "You're always encouraged to read the official documentation. To that end, you can find the docs for the Sequential and Functional APIs here: \n",
    "\n",
    "https://www.tensorflow.org/guide/keras/sequential_model\n",
    "\n",
    "https://www.tensorflow.org/guide/keras/functional"
   ]
  }
 ],
 "metadata": {
  "coursera": {
   "course_slug": "convolutional-neural-networks",
   "graded_item_id": "bwbJV",
   "launcher_item_id": "0TkXB"
  },
  "kernelspec": {
   "display_name": "Python 3",
   "language": "python",
   "name": "python3"
  },
  "language_info": {
   "codemirror_mode": {
    "name": "ipython",
    "version": 3
   },
   "file_extension": ".py",
   "mimetype": "text/x-python",
   "name": "python",
   "nbconvert_exporter": "python",
   "pygments_lexer": "ipython3",
   "version": "3.7.6"
  }
 },
 "nbformat": 4,
 "nbformat_minor": 2
}
